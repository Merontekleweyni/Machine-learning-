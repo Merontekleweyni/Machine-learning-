{
 "cells": [
  {
   "cell_type": "code",
   "execution_count": 63,
   "id": "e70c0d8f-eb31-4a13-96a5-2d8f969ea9fa",
   "metadata": {},
   "outputs": [],
   "source": [
    "import pandas as pd\n",
    "from sklearn.model_selection import train_test_split\n",
    "from sklearn.preprocessing import LabelEncoder, MinMaxScaler\n",
    "from sklearn.ensemble import AdaBoostClassifier\n",
    "from sklearn.metrics import confusion_matrix, accuracy_score, precision_score, recall_score, f1_score, classification_report\n",
    "import seaborn as sns\n",
    "import matplotlib.pyplot as plt\n",
    "import tkinter as tk\n",
    "from tkinter import ttk\n",
    "from tkinter import messagebox, filedialog\n",
    "from sklearn.impute import SimpleImputer\n",
    "from matplotlib.backends.backend_tkagg import FigureCanvasTkAgg\n",
    "\n",
    "\n",
    "# Load the dataset\n",
    "data = pd.read_csv(\"Churn_Modelling.csv\")"
   ]
  },
  {
   "cell_type": "code",
   "execution_count": 50,
   "id": "3c177220-4e1c-4c8a-9719-0fc22d2e8361",
   "metadata": {},
   "outputs": [
    {
     "data": {
      "text/plain": [
       "' CreditScore  Age  Tenure   Balance  NumOfProducts  HasCrCard  IsActiveMember  EstimatedSalary  Exited\\n         619 42.0       2      0.00              1        1.0             1.0        101348.88       1\\n         608 41.0       1  83807.86              1        0.0             1.0        112542.58       0\\n         502 42.0       8 159660.80              3        1.0             0.0        113931.57       1\\n         699 39.0       1      0.00              2        0.0             0.0         93826.63       0\\n         850 43.0       2 125510.82              1        NaN             1.0         79084.10       0'"
      ]
     },
     "execution_count": 50,
     "metadata": {},
     "output_type": "execute_result"
    }
   ],
   "source": [
    "# Sample of the Dataset\n",
    "sample = data.head(5).to_string(index=False)\n",
    "sample"
   ]
  },
  {
   "cell_type": "code",
   "execution_count": 52,
   "id": "993ece81-0036-4626-b8e1-fd59aaf9d293",
   "metadata": {},
   "outputs": [],
   "source": [
    "description = \"Dataset Description:\\n\" + data.describe().to_string()"
   ]
  },
  {
   "cell_type": "code",
   "execution_count": 53,
   "id": "cc08ed91-9c45-4891-8bdb-5de07ecaf19a",
   "metadata": {},
   "outputs": [],
   "source": [
    "# Data Preprocessing\n",
    "selected_features = ['CreditScore', 'Age', 'Tenure', 'Balance', 'NumOfProducts', 'HasCrCard', 'IsActiveMember', 'EstimatedSalary']\n",
    "target_variable = 'Exited'\n",
    "\n",
    "selected_data = data[selected_features + [target_variable]]\n",
    "\n",
    "# Normalize the input features\n",
    "input_features = selected_features[:-1]\n",
    "scaler = MinMaxScaler()\n",
    "selected_data.loc[:, input_features] = scaler.fit_transform(selected_data[input_features])\n"
   ]
  },
  {
   "cell_type": "code",
   "execution_count": 54,
   "id": "57491829-22a4-4dd4-b490-e56858171ff5",
   "metadata": {},
   "outputs": [],
   "source": [
    "# AdaBoost Learning\n",
    "X = selected_data[selected_features]\n",
    "y = selected_data[target_variable]\n",
    "X_train, X_test, y_train, y_test = train_test_split(X, y, test_size=0.2, random_state=42)\n",
    "\n"
   ]
  },
  {
   "cell_type": "code",
   "execution_count": 55,
   "id": "54dc3c3c-0787-4718-8adb-beb753e88914",
   "metadata": {},
   "outputs": [],
   "source": [
    "imputer = SimpleImputer(strategy='mean')\n",
    "X_train_imputed = imputer.fit_transform(X_train)\n",
    "X_test_imputed = imputer.transform(X_test)"
   ]
  },
  {
   "cell_type": "code",
   "execution_count": 56,
   "id": "1eb92da6-79a6-4b50-9a81-fd2757938bca",
   "metadata": {},
   "outputs": [
    {
     "data": {
      "text/html": [
       "<style>#sk-container-id-3 {color: black;background-color: white;}#sk-container-id-3 pre{padding: 0;}#sk-container-id-3 div.sk-toggleable {background-color: white;}#sk-container-id-3 label.sk-toggleable__label {cursor: pointer;display: block;width: 100%;margin-bottom: 0;padding: 0.3em;box-sizing: border-box;text-align: center;}#sk-container-id-3 label.sk-toggleable__label-arrow:before {content: \"▸\";float: left;margin-right: 0.25em;color: #696969;}#sk-container-id-3 label.sk-toggleable__label-arrow:hover:before {color: black;}#sk-container-id-3 div.sk-estimator:hover label.sk-toggleable__label-arrow:before {color: black;}#sk-container-id-3 div.sk-toggleable__content {max-height: 0;max-width: 0;overflow: hidden;text-align: left;background-color: #f0f8ff;}#sk-container-id-3 div.sk-toggleable__content pre {margin: 0.2em;color: black;border-radius: 0.25em;background-color: #f0f8ff;}#sk-container-id-3 input.sk-toggleable__control:checked~div.sk-toggleable__content {max-height: 200px;max-width: 100%;overflow: auto;}#sk-container-id-3 input.sk-toggleable__control:checked~label.sk-toggleable__label-arrow:before {content: \"▾\";}#sk-container-id-3 div.sk-estimator input.sk-toggleable__control:checked~label.sk-toggleable__label {background-color: #d4ebff;}#sk-container-id-3 div.sk-label input.sk-toggleable__control:checked~label.sk-toggleable__label {background-color: #d4ebff;}#sk-container-id-3 input.sk-hidden--visually {border: 0;clip: rect(1px 1px 1px 1px);clip: rect(1px, 1px, 1px, 1px);height: 1px;margin: -1px;overflow: hidden;padding: 0;position: absolute;width: 1px;}#sk-container-id-3 div.sk-estimator {font-family: monospace;background-color: #f0f8ff;border: 1px dotted black;border-radius: 0.25em;box-sizing: border-box;margin-bottom: 0.5em;}#sk-container-id-3 div.sk-estimator:hover {background-color: #d4ebff;}#sk-container-id-3 div.sk-parallel-item::after {content: \"\";width: 100%;border-bottom: 1px solid gray;flex-grow: 1;}#sk-container-id-3 div.sk-label:hover label.sk-toggleable__label {background-color: #d4ebff;}#sk-container-id-3 div.sk-serial::before {content: \"\";position: absolute;border-left: 1px solid gray;box-sizing: border-box;top: 0;bottom: 0;left: 50%;z-index: 0;}#sk-container-id-3 div.sk-serial {display: flex;flex-direction: column;align-items: center;background-color: white;padding-right: 0.2em;padding-left: 0.2em;position: relative;}#sk-container-id-3 div.sk-item {position: relative;z-index: 1;}#sk-container-id-3 div.sk-parallel {display: flex;align-items: stretch;justify-content: center;background-color: white;position: relative;}#sk-container-id-3 div.sk-item::before, #sk-container-id-3 div.sk-parallel-item::before {content: \"\";position: absolute;border-left: 1px solid gray;box-sizing: border-box;top: 0;bottom: 0;left: 50%;z-index: -1;}#sk-container-id-3 div.sk-parallel-item {display: flex;flex-direction: column;z-index: 1;position: relative;background-color: white;}#sk-container-id-3 div.sk-parallel-item:first-child::after {align-self: flex-end;width: 50%;}#sk-container-id-3 div.sk-parallel-item:last-child::after {align-self: flex-start;width: 50%;}#sk-container-id-3 div.sk-parallel-item:only-child::after {width: 0;}#sk-container-id-3 div.sk-dashed-wrapped {border: 1px dashed gray;margin: 0 0.4em 0.5em 0.4em;box-sizing: border-box;padding-bottom: 0.4em;background-color: white;}#sk-container-id-3 div.sk-label label {font-family: monospace;font-weight: bold;display: inline-block;line-height: 1.2em;}#sk-container-id-3 div.sk-label-container {text-align: center;}#sk-container-id-3 div.sk-container {/* jupyter's `normalize.less` sets `[hidden] { display: none; }` but bootstrap.min.css set `[hidden] { display: none !important; }` so we also need the `!important` here to be able to override the default hidden behavior on the sphinx rendered scikit-learn.org. See: https://github.com/scikit-learn/scikit-learn/issues/21755 */display: inline-block !important;position: relative;}#sk-container-id-3 div.sk-text-repr-fallback {display: none;}</style><div id=\"sk-container-id-3\" class=\"sk-top-container\"><div class=\"sk-text-repr-fallback\"><pre>AdaBoostClassifier()</pre><b>In a Jupyter environment, please rerun this cell to show the HTML representation or trust the notebook. <br />On GitHub, the HTML representation is unable to render, please try loading this page with nbviewer.org.</b></div><div class=\"sk-container\" hidden><div class=\"sk-item\"><div class=\"sk-estimator sk-toggleable\"><input class=\"sk-toggleable__control sk-hidden--visually\" id=\"sk-estimator-id-3\" type=\"checkbox\" checked><label for=\"sk-estimator-id-3\" class=\"sk-toggleable__label sk-toggleable__label-arrow\">AdaBoostClassifier</label><div class=\"sk-toggleable__content\"><pre>AdaBoostClassifier()</pre></div></div></div></div></div>"
      ],
      "text/plain": [
       "AdaBoostClassifier()"
      ]
     },
     "execution_count": 56,
     "metadata": {},
     "output_type": "execute_result"
    }
   ],
   "source": [
    "clf = AdaBoostClassifier()\n",
    "clf.fit(X_train_imputed, y_train)"
   ]
  },
  {
   "cell_type": "code",
   "execution_count": 57,
   "id": "ea1027bf-cdf0-4252-a172-38eca457a887",
   "metadata": {},
   "outputs": [
    {
     "name": "stdout",
     "output_type": "stream",
     "text": [
      "The accuracy is : 0.8525737131434283\n",
      "The precision is : 0.8409459096428822\n",
      "The recall is : 0.8525737131434283\n"
     ]
    }
   ],
   "source": [
    "# Evaluate the model\n",
    "y_pred = clf.predict(X_test_imputed)\n",
    "\n",
    "# Calculate the evaluation metrics\n",
    "accuracy = accuracy_score(y_test, y_pred)\n",
    "precision = precision_score(y_test, y_pred, average='weighted')\n",
    "recall = recall_score(y_test, y_pred, average='weighted')\n",
    "f1 = f1_score(y_test, y_pred, average='weighted')\n",
    "report = classification_report(y_test, y_pred)\n",
    "\n",
    "print (\"The accuracy is :\",accuracy )\n",
    "print (\"The precision is :\",precision)\n",
    "print (\"The recall is :\",recall)\n",
    "\n"
   ]
  },
  {
   "cell_type": "code",
   "execution_count": 70,
   "id": "54bdbed2-d575-4649-9036-d9241b7f73f1",
   "metadata": {},
   "outputs": [
    {
     "data": {
      "text/plain": [
       "''"
      ]
     },
     "execution_count": 70,
     "metadata": {},
     "output_type": "execute_result"
    }
   ],
   "source": [
    "# Create the GUI\n",
    "root = tk.Tk()\n",
    "root.title(\"Bank Customer Churn Prediction\")\n",
    "root.configure(bg=\"lightgray\")\n",
    "screen_width = root.winfo_screenwidth()\n",
    "screen_height = root.winfo_screenheight()\n",
    "x = (screen_width // 2) - (800 // 2)\n",
    "y = (screen_height // 2) - (600 // 2)\n",
    "root.geometry(f\"800x600+{x}+{y}\")"
   ]
  },
  {
   "cell_type": "code",
   "execution_count": 71,
   "id": "00d197b9-5ae9-45aa-881b-8fcb2d4987a6",
   "metadata": {},
   "outputs": [
    {
     "data": {
      "image/png": "[encoded data removed]",
      "text/plain": [
       "<Figure size 600x558 with 2 Axes>"
      ]
     },
     "metadata": {},
     "output_type": "display_data"
    }
   ],
   "source": [
    "\n",
    "# Create a frame for the accuracy and confusion matrix\n",
    "result_frame = tk.Frame(root)\n",
    "result_frame.pack()\n",
    "\n",
    "# Display the accuracy\n",
    "accuracy_label = tk.Label(result_frame, text=f\"Accuracy: {accuracy:.2f}\")\n",
    "accuracy_label.pack()\n",
    "\n",
    "# Display the confusion matrix\n",
    "confusion_matrix_label = tk.Label(result_frame, text=\"Confusion Matrix:\")\n",
    "confusion_matrix_label.pack()\n",
    "\n",
    "# Create a figure and axes for the confusion matrix\n",
    "fig, ax = plt.subplots(figsize=(6, 6))\n",
    "cm = confusion_matrix(y_test, y_pred)\n",
    "sns.heatmap(cm, annot=True, cmap='Blues', ax=ax)\n",
    "ax.set_xlabel('Predicted')\n",
    "ax.set_ylabel('Actual')\n",
    "ax.set_title('Confusion Matrix')\n",
    "\n",
    "# Create a Tkinter canvas to display the confusion matrix\n",
    "confusion_matrix_canvas = tk.Canvas(result_frame, width=600, height=600)\n",
    "confusion_matrix_canvas.pack()\n",
    "\n",
    "# Embed the Matplotlib figure in the Tkinter canvas\n",
    "confusion_matrix_figure_canvas = FigureCanvasTkAgg(fig, confusion_matrix_canvas)\n",
    "confusion_matrix_figure_canvas.draw()\n",
    "confusion_matrix_figure_canvas.get_tk_widget().pack()\n",
    "\n",
    "# Display the classification report\n",
    "report_label = tk.Label(root, text=\"Classification Report:\")\n",
    "report_label.pack()\n",
    "report_text = tk.Text(root, height=10, width=80)\n",
    "report_text.pack()\n",
    "report_text.insert(tk.END, report)\n",
    "\n",
    "root.mainloop()"
   ]
  },
  {
   "cell_type": "code",
   "execution_count": 79,
   "id": "6dfdbcb3-1410-4f1b-9aaf-9a21aa7dcea9",
   "metadata": {},
   "outputs": [],
   "source": [
    "def preprocess_data(X):\n",
    "    # Create an instance of the SimpleImputer with the desired strategy\n",
    "    imputer = SimpleImputer(strategy='mean')\n",
    "\n",
    "    # Fit the imputer on the features (X) to learn the mean values for imputation\n",
    "    imputer.fit(X)\n",
    "\n",
    "    # Transform the features (X) to replace missing values with the learned means\n",
    "    X_imputed = imputer.transform(X)\n",
    "\n",
    "    return X_imputed\n",
    "\n",
    "# GUI functions\n",
    "def predict_data(filename):\n",
    "    # Load the data from the file\n",
    "    data = pd.read_csv(filename)\n",
    "\n",
    "    # Separate the features (X) and target variable (y)\n",
    "    X = data.iloc[:, :-1]\n",
    "    y = data.iloc[:, -1]\n",
    "\n",
    "    # Preprocess the features\n",
    "    X_imputed = preprocess_data(X)\n",
    "\n",
    "    # Perform prediction using the trained model\n",
    "    y_pred = clf.predict(X_imputed)\n",
    "\n",
    "    # Calculate accuracy and confusion matrix\n",
    "    accuracy = accuracy_score(y, y_pred)\n",
    "    cm = confusion_matrix(y, y_pred)\n",
    "    report = classification_report(y, y_pred)\n",
    "\n",
    "    # Display the results in a separate window\n",
    "    show_results(accuracy, cm, report)\n",
    "\n",
    "def show_results(accuracy, cm, report):\n",
    "    result_window = tk.Toplevel()\n",
    "    result_window.title(\"Analysis Results\")\n",
    "\n",
    "\n",
    "    # Accuracy\n",
    "    accuracy_label = tk.Label(result_window, text=\"Accuracy: {:.2f}%\".format(accuracy * 100))\n",
    "    accuracy_label.pack()\n",
    "\n",
    "    # Confusion Matrix\n",
    "    confusion_matrix_label = tk.Label(result_window, text=\"Confusion Matrix:\")\n",
    "    confusion_matrix_label.pack()\n",
    "\n",
    "    confusion_matrix_canvas = tk.Canvas(result_window, width=600, height=400)\n",
    "    confusion_matrix_canvas.pack()\n",
    "\n",
    "    plt.figure(figsize=(6, 4))\n",
    "    sns.heatmap(cm, annot=True, fmt=\"d\", cmap=\"Blues\")\n",
    "    plt.xlabel(\"Predicted\")\n",
    "    plt.ylabel(\"Actual\")\n",
    "    plt.title(\"Confusion Matrix\")\n",
    "\n",
    "    confusion_matrix_figure_canvas = FigureCanvasTkAgg(plt.gcf(), confusion_matrix_canvas)\n",
    "    confusion_matrix_figure_canvas.draw()\n",
    "    confusion_matrix_figure_canvas.get_tk_widget().pack()\n",
    "\n",
    "    # Classification Report\n",
    "    report_label = tk.Label(result_window, text=\"Classification Report:\")\n",
    "    report_label.pack()\n",
    "\n",
    "    report_text = tk.Text(result_window, height=10, width=80)\n",
    "    report_text.insert(tk.END, report)\n",
    "    report_text.pack()\n",
    "\n",
    "def select_file():\n",
    "    # Open a file dialog to select a file\n",
    "    filename = filedialog.askopenfilename()\n",
    "\n",
    "    # Predict the selected file\n",
    "    predict_data(filename)\n",
    "\n",
    "root = tk.Tk()\n",
    "root.title(\"Churn Modelling Analysis\")\n",
    "root.configure(bg=\"lightgray\")\n",
    "screen_width = root.winfo_screenwidth()\n",
    "screen_height = root.winfo_screenheight()\n",
    "root.geometry(f\"400x300+{x}+{y}\")\n",
    "\n",
    "select_button = tk.Button(root, text=\"Select File\", command=select_file)\n",
    "select_button.pack()\n",
    "\n",
    "# Assuming you have already trained the AdaBoost classifier\n",
    "clf = AdaBoostClassifier()\n",
    "clf.fit(X_train_imputed, y_train)\n",
    "\n",
    "root.mainloop()"
   ]
  },
  {
   "cell_type": "code",
   "execution_count": null,
   "id": "a1745a3a-9361-4d5b-a91d-55ab6e04df42",
   "metadata": {},
   "outputs": [],
   "source": []
  }
 ],
 "metadata": {
  "kernelspec": {
   "display_name": "Python 3 (ipykernel)",
   "language": "python",
   "name": "python3"
  },
  "language_info": {
   "codemirror_mode": {
    "name": "ipython",
    "version": 3
   },
   "file_extension": ".py",
   "mimetype": "text/x-python",
   "name": "python",
   "nbconvert_exporter": "python",
   "pygments_lexer": "ipython3",
   "version": "3.11.7"
  }
 },
 "nbformat": 4,
 "nbformat_minor": 5
}
